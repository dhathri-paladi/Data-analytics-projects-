{
 "cells": [
  {
   "cell_type": "code",
   "execution_count": 1,
   "id": "38ecd1e9-f5d9-4a68-8cec-6e0ed85e25ed",
   "metadata": {},
   "outputs": [
    {
     "name": "stdout",
     "output_type": "stream",
     "text": [
      "Requirement already satisfied: country_converter in c:\\users\\sree ganesha\\anaconda3\\envs\\automation\\lib\\site-packages (1.3)\n",
      "Requirement already satisfied: pandas>=1.0 in c:\\users\\sree ganesha\\anaconda3\\envs\\automation\\lib\\site-packages (from country_converter) (2.0.3)\n",
      "Requirement already satisfied: python-dateutil>=2.8.2 in c:\\users\\sree ganesha\\anaconda3\\envs\\automation\\lib\\site-packages (from pandas>=1.0->country_converter) (2.9.0.post0)\n",
      "Requirement already satisfied: pytz>=2020.1 in c:\\users\\sree ganesha\\anaconda3\\envs\\automation\\lib\\site-packages (from pandas>=1.0->country_converter) (2024.1)\n",
      "Requirement already satisfied: tzdata>=2022.1 in c:\\users\\sree ganesha\\anaconda3\\envs\\automation\\lib\\site-packages (from pandas>=1.0->country_converter) (2024.2)\n",
      "Requirement already satisfied: numpy>=1.20.3 in c:\\users\\sree ganesha\\anaconda3\\envs\\automation\\lib\\site-packages (from pandas>=1.0->country_converter) (1.26.4)\n",
      "Requirement already satisfied: six>=1.5 in c:\\users\\sree ganesha\\anaconda3\\envs\\automation\\lib\\site-packages (from python-dateutil>=2.8.2->pandas>=1.0->country_converter) (1.16.0)\n"
     ]
    }
   ],
   "source": [
    "!pip install country_converter\n",
    "\n",
    "import numpy as np\n",
    "import pandas as pd\n",
    "from matplotlib import pyplot as plt\n",
    "import country_converter as coco\n",
    "\n",
    "import seaborn as sns\n",
    "import missingno as msno\n",
    "import plotly.express as px\n",
    "import plotly.graph_objects as go\n",
    "from plotly.subplots import make_subplots\n",
    "from plotly.offline import iplot\n",
    "from PIL import Image\n",
    "import requests\n",
    "\n",
    "from sklearn.metrics.pairwise import cosine_similarity\n",
    "from sklearn.feature_extraction.text import CountVectorizer\n",
    "\n",
    "import warnings\n",
    "warnings.filterwarnings('ignore')"
   ]
  },
  {
   "cell_type": "code",
   "execution_count": 2,
   "id": "143cea04-d685-4df5-a422-e90a8e0f35e2",
   "metadata": {},
   "outputs": [],
   "source": [
    "books = pd.read_csv(\"./books.csv\")\n",
    "ratings = pd.read_csv(\"./ratings.csv\")\n",
    "users = pd.read_csv(\"./users.csv\")"
   ]
  },
  {
   "cell_type": "code",
   "execution_count": 3,
   "id": "5f24f319-5e7c-40bf-bc5d-84a7e9e5bcef",
   "metadata": {},
   "outputs": [
    {
     "data": {
      "text/plain": [
       "Index(['Branch', 'Book Title', 'Year of Publication', 'Author', 'Semester',\n",
       "       'Price'],\n",
       "      dtype='object')"
      ]
     },
     "execution_count": 3,
     "metadata": {},
     "output_type": "execute_result"
    }
   ],
   "source": [
    "books.columns"
   ]
  },
  {
   "cell_type": "code",
   "execution_count": 4,
   "id": "77e30fef-30ba-40f5-8106-700a35a0d08e",
   "metadata": {},
   "outputs": [
    {
     "data": {
      "text/plain": [
       "Index(['UserID', 'Semester', 'Ratings'], dtype='object')"
      ]
     },
     "execution_count": 4,
     "metadata": {},
     "output_type": "execute_result"
    }
   ],
   "source": [
    "ratings.columns"
   ]
  },
  {
   "cell_type": "code",
   "execution_count": 5,
   "id": "a190d676-a9de-48b9-8f1e-8ecb7ccf28d2",
   "metadata": {},
   "outputs": [
    {
     "data": {
      "text/plain": [
       "Index(['UserID', 'Semester'], dtype='object')"
      ]
     },
     "execution_count": 5,
     "metadata": {},
     "output_type": "execute_result"
    }
   ],
   "source": [
    "users.columns"
   ]
  },
  {
   "cell_type": "code",
   "execution_count": 6,
   "id": "c89b39bf-70ce-46fe-9213-78da52b580cd",
   "metadata": {},
   "outputs": [
    {
     "data": {
      "text/plain": [
       "Branch                 0\n",
       "Book Title             0\n",
       "Year of Publication    0\n",
       "Author                 0\n",
       "Semester               0\n",
       "Price                  0\n",
       "dtype: int64"
      ]
     },
     "execution_count": 6,
     "metadata": {},
     "output_type": "execute_result"
    }
   ],
   "source": [
    "books.isnull().sum()"
   ]
  },
  {
   "cell_type": "code",
   "execution_count": 7,
   "id": "7341c743-30b9-4689-ab7b-60579098e3ba",
   "metadata": {},
   "outputs": [
    {
     "data": {
      "text/plain": [
       "UserID      0\n",
       "Semester    0\n",
       "Ratings     0\n",
       "dtype: int64"
      ]
     },
     "execution_count": 7,
     "metadata": {},
     "output_type": "execute_result"
    }
   ],
   "source": [
    "ratings.isnull().sum()"
   ]
  },
  {
   "cell_type": "code",
   "execution_count": 8,
   "id": "72107aba-87be-40a5-9019-46eed2c2bb21",
   "metadata": {},
   "outputs": [
    {
     "data": {
      "text/plain": [
       "UserID      0\n",
       "Semester    0\n",
       "dtype: int64"
      ]
     },
     "execution_count": 8,
     "metadata": {},
     "output_type": "execute_result"
    }
   ],
   "source": [
    "users.isnull().sum()"
   ]
  },
  {
   "cell_type": "markdown",
   "id": "bb311fc6-28bb-4fa2-b2a4-700fd449d008",
   "metadata": {},
   "source": [
    "### creating database and tables"
   ]
  },
  {
   "cell_type": "code",
   "execution_count": 9,
   "id": "f521e889-0c3f-4ad8-8a51-37a9b1d073c7",
   "metadata": {},
   "outputs": [
    {
     "name": "stdout",
     "output_type": "stream",
     "text": [
      ":white_check_mark: Connected to MySQL Server\n",
      ":white_check_mark: Database 'educationbookrecommendation' created successfully\n",
      ":white_check_mark: Table 'Books' created successfully\n",
      ":white_check_mark: Table 'Users' created successfully\n",
      ":white_check_mark: Table 'Ratings' created successfully\n",
      ":white_check_mark: MySQL connection is closed\n"
     ]
    }
   ],
   "source": [
    "import mysql.connector\n",
    "from mysql.connector import Error\n",
    "# Database connection details\n",
    "HOST = \"localhost\"\n",
    "USER = \"root\"\n",
    "PASSWORD = \"root\"\n",
    "try:\n",
    "    # Connect to MySQL server\n",
    "    connection = mysql.connector.connect(\n",
    "        host=HOST,\n",
    "        user=USER,\n",
    "        password=PASSWORD\n",
    "    )\n",
    "    if connection.is_connected():\n",
    "        print(\":white_check_mark: Connected to MySQL Server\")\n",
    "        # Create a cursor object\n",
    "        cursor = connection.cursor()\n",
    "        # Step 1: Create the database\n",
    "        cursor.execute(\"CREATE DATABASE IF NOT EXISTS educationbr\")\n",
    "        print(\":white_check_mark: Database 'educationbookrecommendation' created successfully\")\n",
    "        # Switch to the new database\n",
    "        cursor.execute(\"USE educationbr\")\n",
    "        # Step 2: Create Books table\n",
    "        create_books_table = \"\"\"\n",
    "        CREATE TABLE IF NOT EXISTS Books (\n",
    "            Branch VARCHAR(100) NOT NULL,\n",
    "            Book_Title VARCHAR(255) NOT NULL,\n",
    "            Year_Of_Publication INT NOT NULL,\n",
    "            Author VARCHAR(255) NOT NULL,\n",
    "            Semester INT NOT NULL,\n",
    "            Price DECIMAL(10,2)\n",
    "        )\n",
    "        \"\"\"\n",
    "        cursor.execute(create_books_table)\n",
    "        print(\":white_check_mark: Table 'Books' created successfully\")\n",
    "        # Step 3: Create Users table\n",
    "        create_users_table = \"\"\"\n",
    "        CREATE TABLE IF NOT EXISTS Users (\n",
    "            User_ID INT PRIMARY KEY,\n",
    "             Semester INT NOT NULL\n",
    "        )\n",
    "        \"\"\"\n",
    "        cursor.execute(create_users_table)\n",
    "        print(\":white_check_mark: Table 'Users' created successfully\")\n",
    "        # Step 4: Create Ratings table\n",
    "        create_ratings_table = \"\"\"\n",
    "        CREATE TABLE IF NOT EXISTS Ratings (\n",
    "            User_ID INT NOT NULL,\n",
    "            Semester INT NOT NULL,\n",
    "            Ratings INT CHECK (Ratings BETWEEN 1 AND 10),\n",
    "            PRIMARY KEY (User_ID, Semester),\n",
    "            FOREIGN KEY (User_ID) REFERENCES Users(User_ID) ON DELETE CASCADE\n",
    "        )\n",
    "        \"\"\"\n",
    "        cursor.execute(create_ratings_table)\n",
    "        print(\":white_check_mark: Table 'Ratings' created successfully\")\n",
    "except Error as e:\n",
    "    print(f\":x: Error: {e}\")\n",
    "finally:\n",
    "    # Close the connection\n",
    "    if connection.is_connected():\n",
    "        cursor.close()\n",
    "        connection.close()\n",
    "        print(\":white_check_mark: MySQL connection is closed\")\n"
   ]
  },
  {
   "cell_type": "markdown",
   "id": "b20b6798-51fe-46fb-8f65-ae8efa8eda75",
   "metadata": {},
   "source": [
    "### inserting the data into database"
   ]
  },
  {
   "cell_type": "code",
   "execution_count": 10,
   "id": "d60c32c6-4884-4eb5-9b72-93d10408d7a8",
   "metadata": {},
   "outputs": [
    {
     "name": "stdout",
     "output_type": "stream",
     "text": [
      ":white_check_mark: Connected to MySQL Database\n",
      ":white_check_mark: Users data inserted successfully\n",
      ":white_check_mark: Books data inserted successfully\n",
      ":white_check_mark: Ratings data inserted successfully\n",
      ":white_check_mark: MySQL connection is closed\n"
     ]
    }
   ],
   "source": [
    "import mysql.connector\n",
    "from mysql.connector import Error\n",
    "import pandas as pd\n",
    "# Database connection details\n",
    "HOST = \"localhost\"\n",
    "USER = \"root\"\n",
    "PASSWORD = \"root\"\n",
    "DATABASE = \"educationbr\"\n",
    "# File paths\n",
    "BOOKS_CSV = \"./books.csv\"\n",
    "USERS_CSV = \"./users.csv\"\n",
    "RATINGS_CSV = \"./ratings.csv\"\n",
    "try:\n",
    "    # Connect to MySQL\n",
    "    connection = mysql.connector.connect(\n",
    "        host=HOST,\n",
    "        user=USER,\n",
    "        password=PASSWORD,\n",
    "        database=DATABASE\n",
    "    )\n",
    "    if connection.is_connected():\n",
    "        print(\":white_check_mark: Connected to MySQL Database\")\n",
    "        cursor = connection.cursor()\n",
    "        ### :small_blue_diamond: Insert data into Users table ###\n",
    "        users_df = pd.read_csv(USERS_CSV)\n",
    "        users_df.rename(columns={\"UserID\": \"User_ID\"}, inplace=True)\n",
    "        for _, row in users_df.iterrows():\n",
    "            try:\n",
    "                cursor.execute(\"\"\"\n",
    "                    INSERT IGNORE INTO Users (User_ID, Semester)\n",
    "                    VALUES (%s, %s)\n",
    "                \"\"\", (int(row[\"User_ID\"]), int(row[\"Semester\"])))\n",
    "            except Exception as e:\n",
    "                print(f\":x: Error inserting user {row['User_ID']}: {e}\")\n",
    "        connection.commit()  # :white_check_mark: Commit after Users table\n",
    "        print(\":white_check_mark: Users data inserted successfully\")\n",
    "        ### :small_blue_diamond: Insert data into Books table ###\n",
    "        books_df = pd.read_csv(BOOKS_CSV)\n",
    "        books_df.rename(columns={\n",
    "            \"Book Title\": \"Book_Title\",\n",
    "            \"Year of Publication\": \"Year_Of_Publication\"\n",
    "        }, inplace=True)\n",
    "        for _, row in books_df.iterrows():\n",
    "            try:\n",
    "                cursor.execute(\"\"\"\n",
    "                    INSERT IGNORE INTO Books (Branch, Book_Title, Year_Of_Publication, Author, Semester, Price)\n",
    "                    VALUES (%s, %s, %s, %s, %s, %s)\n",
    "                \"\"\", (row[\"Branch\"], row[\"Book_Title\"], int(row[\"Year_Of_Publication\"]),\n",
    "                      row[\"Author\"], int(row[\"Semester\"]),\n",
    "                      float(row[\"Price\"]) if pd.notna(row[\"Price\"]) else None))\n",
    "            except Exception as e:\n",
    "                print(f\":x: Error inserting book {row['Book_Title']}: {e}\")\n",
    "        connection.commit()  # :white_check_mark: Commit after Books table\n",
    "        print(\":white_check_mark: Books data inserted successfully\")\n",
    "        ### :small_blue_diamond: Insert data into Ratings table ###\n",
    "        ratings_df = pd.read_csv(RATINGS_CSV)\n",
    "        ratings_df.rename(columns={\"UserID\": \"User_ID\"}, inplace=True)\n",
    "        for _, row in ratings_df.iterrows():\n",
    "            try:\n",
    "                cursor.execute(\"\"\"\n",
    "                    INSERT IGNORE INTO Ratings (User_ID, Semester, Ratings)\n",
    "                    VALUES (%s, %s, %s)\n",
    "                \"\"\", (int(row[\"User_ID\"]), int(row[\"Semester\"]),\n",
    "                      int(row[\"Ratings\"]) if pd.notna(row[\"Ratings\"]) else None))\n",
    "            except mysql.connector.IntegrityError as e:\n",
    "                print(f\":warning: Duplicate entry skipped for User_ID: {row['User_ID']} in Semester: {row['Semester']}\")\n",
    "            except Exception as e:\n",
    "                print(f\":x: Error inserting rating {row['User_ID']}: {e}\")\n",
    "        connection.commit()  # :white_check_mark: Commit after Ratings table\n",
    "        print(\":white_check_mark: Ratings data inserted successfully\")\n",
    "except Error as e:\n",
    "    print(f\":x: MySQL Error: {e}\")\n",
    "finally:\n",
    "    if connection.is_connected():\n",
    "        cursor.close()\n",
    "        connection.close()\n",
    "        print(\":white_check_mark: MySQL connection is closed\")"
   ]
  },
  {
   "cell_type": "markdown",
   "id": "8e50bdc2-92bd-42ff-8402-90217dc7b5c1",
   "metadata": {},
   "source": [
    "### extracting the data from database to python"
   ]
  },
  {
   "cell_type": "code",
   "execution_count": 11,
   "id": "e9950bc6-10d6-438f-bfcd-7b29c09fa419",
   "metadata": {},
   "outputs": [
    {
     "name": "stdout",
     "output_type": "stream",
     "text": [
      "Users Table:\n"
     ]
    },
    {
     "data": {
      "text/html": [
       "<div>\n",
       "<style scoped>\n",
       "    .dataframe tbody tr th:only-of-type {\n",
       "        vertical-align: middle;\n",
       "    }\n",
       "\n",
       "    .dataframe tbody tr th {\n",
       "        vertical-align: top;\n",
       "    }\n",
       "\n",
       "    .dataframe thead th {\n",
       "        text-align: right;\n",
       "    }\n",
       "</style>\n",
       "<table border=\"1\" class=\"dataframe\">\n",
       "  <thead>\n",
       "    <tr style=\"text-align: right;\">\n",
       "      <th></th>\n",
       "      <th>User_ID</th>\n",
       "      <th>Semester</th>\n",
       "    </tr>\n",
       "  </thead>\n",
       "  <tbody>\n",
       "    <tr>\n",
       "      <th>0</th>\n",
       "      <td>1</td>\n",
       "      <td>3</td>\n",
       "    </tr>\n",
       "    <tr>\n",
       "      <th>1</th>\n",
       "      <td>2</td>\n",
       "      <td>6</td>\n",
       "    </tr>\n",
       "    <tr>\n",
       "      <th>2</th>\n",
       "      <td>3</td>\n",
       "      <td>1</td>\n",
       "    </tr>\n",
       "    <tr>\n",
       "      <th>3</th>\n",
       "      <td>4</td>\n",
       "      <td>1</td>\n",
       "    </tr>\n",
       "    <tr>\n",
       "      <th>4</th>\n",
       "      <td>5</td>\n",
       "      <td>1</td>\n",
       "    </tr>\n",
       "  </tbody>\n",
       "</table>\n",
       "</div>"
      ],
      "text/plain": [
       "   User_ID  Semester\n",
       "0        1         3\n",
       "1        2         6\n",
       "2        3         1\n",
       "3        4         1\n",
       "4        5         1"
      ]
     },
     "metadata": {},
     "output_type": "display_data"
    },
    {
     "data": {
      "text/plain": [
       "'\\n'"
      ]
     },
     "metadata": {},
     "output_type": "display_data"
    },
    {
     "name": "stdout",
     "output_type": "stream",
     "text": [
      "Books Table:\n"
     ]
    },
    {
     "data": {
      "text/html": [
       "<div>\n",
       "<style scoped>\n",
       "    .dataframe tbody tr th:only-of-type {\n",
       "        vertical-align: middle;\n",
       "    }\n",
       "\n",
       "    .dataframe tbody tr th {\n",
       "        vertical-align: top;\n",
       "    }\n",
       "\n",
       "    .dataframe thead th {\n",
       "        text-align: right;\n",
       "    }\n",
       "</style>\n",
       "<table border=\"1\" class=\"dataframe\">\n",
       "  <thead>\n",
       "    <tr style=\"text-align: right;\">\n",
       "      <th></th>\n",
       "      <th>Branch</th>\n",
       "      <th>Book_Title</th>\n",
       "      <th>Year_Of_Publication</th>\n",
       "      <th>Author</th>\n",
       "      <th>Semester</th>\n",
       "      <th>Price</th>\n",
       "    </tr>\n",
       "  </thead>\n",
       "  <tbody>\n",
       "    <tr>\n",
       "      <th>0</th>\n",
       "      <td>Chemical Engineering</td>\n",
       "      <td>Heat Transfer - A Comprehensive Guide</td>\n",
       "      <td>2010</td>\n",
       "      <td>Stuart Russell</td>\n",
       "      <td>6</td>\n",
       "      <td>2127.00</td>\n",
       "    </tr>\n",
       "    <tr>\n",
       "      <th>1</th>\n",
       "      <td>Computer Science Engineering</td>\n",
       "      <td>Computer Networks - A Comprehensive Guide</td>\n",
       "      <td>2023</td>\n",
       "      <td>Robert L. Norton</td>\n",
       "      <td>6</td>\n",
       "      <td>1611.00</td>\n",
       "    </tr>\n",
       "    <tr>\n",
       "      <th>2</th>\n",
       "      <td>Computer Science Engineering</td>\n",
       "      <td>Operating Systems - A Comprehensive Guide</td>\n",
       "      <td>2006</td>\n",
       "      <td>K.S. Mano</td>\n",
       "      <td>6</td>\n",
       "      <td>1826.00</td>\n",
       "    </tr>\n",
       "    <tr>\n",
       "      <th>3</th>\n",
       "      <td>Electronics and Communication Engineering</td>\n",
       "      <td>Digital Electronics - A Comprehensive Guide</td>\n",
       "      <td>2010</td>\n",
       "      <td>Robert L. Norton</td>\n",
       "      <td>4</td>\n",
       "      <td>1002.00</td>\n",
       "    </tr>\n",
       "    <tr>\n",
       "      <th>4</th>\n",
       "      <td>Mechanical Engineering</td>\n",
       "      <td>Machine Design - A Comprehensive Guide</td>\n",
       "      <td>2016</td>\n",
       "      <td>J. B. Gupta</td>\n",
       "      <td>2</td>\n",
       "      <td>527.00</td>\n",
       "    </tr>\n",
       "  </tbody>\n",
       "</table>\n",
       "</div>"
      ],
      "text/plain": [
       "                                      Branch  \\\n",
       "0                       Chemical Engineering   \n",
       "1               Computer Science Engineering   \n",
       "2               Computer Science Engineering   \n",
       "3  Electronics and Communication Engineering   \n",
       "4                     Mechanical Engineering   \n",
       "\n",
       "                                    Book_Title  Year_Of_Publication  \\\n",
       "0        Heat Transfer - A Comprehensive Guide                 2010   \n",
       "1    Computer Networks - A Comprehensive Guide                 2023   \n",
       "2    Operating Systems - A Comprehensive Guide                 2006   \n",
       "3  Digital Electronics - A Comprehensive Guide                 2010   \n",
       "4       Machine Design - A Comprehensive Guide                 2016   \n",
       "\n",
       "             Author  Semester    Price  \n",
       "0    Stuart Russell         6  2127.00  \n",
       "1  Robert L. Norton         6  1611.00  \n",
       "2         K.S. Mano         6  1826.00  \n",
       "3  Robert L. Norton         4  1002.00  \n",
       "4       J. B. Gupta         2   527.00  "
      ]
     },
     "metadata": {},
     "output_type": "display_data"
    },
    {
     "data": {
      "text/plain": [
       "'\\n'"
      ]
     },
     "metadata": {},
     "output_type": "display_data"
    },
    {
     "name": "stdout",
     "output_type": "stream",
     "text": [
      "Ratings Table:\n"
     ]
    },
    {
     "data": {
      "text/html": [
       "<div>\n",
       "<style scoped>\n",
       "    .dataframe tbody tr th:only-of-type {\n",
       "        vertical-align: middle;\n",
       "    }\n",
       "\n",
       "    .dataframe tbody tr th {\n",
       "        vertical-align: top;\n",
       "    }\n",
       "\n",
       "    .dataframe thead th {\n",
       "        text-align: right;\n",
       "    }\n",
       "</style>\n",
       "<table border=\"1\" class=\"dataframe\">\n",
       "  <thead>\n",
       "    <tr style=\"text-align: right;\">\n",
       "      <th></th>\n",
       "      <th>User_ID</th>\n",
       "      <th>Semester</th>\n",
       "      <th>Ratings</th>\n",
       "    </tr>\n",
       "  </thead>\n",
       "  <tbody>\n",
       "    <tr>\n",
       "      <th>0</th>\n",
       "      <td>1</td>\n",
       "      <td>2</td>\n",
       "      <td>3</td>\n",
       "    </tr>\n",
       "    <tr>\n",
       "      <th>1</th>\n",
       "      <td>1</td>\n",
       "      <td>3</td>\n",
       "      <td>2</td>\n",
       "    </tr>\n",
       "    <tr>\n",
       "      <th>2</th>\n",
       "      <td>2</td>\n",
       "      <td>1</td>\n",
       "      <td>4</td>\n",
       "    </tr>\n",
       "    <tr>\n",
       "      <th>3</th>\n",
       "      <td>2</td>\n",
       "      <td>7</td>\n",
       "      <td>1</td>\n",
       "    </tr>\n",
       "    <tr>\n",
       "      <th>4</th>\n",
       "      <td>2</td>\n",
       "      <td>8</td>\n",
       "      <td>1</td>\n",
       "    </tr>\n",
       "  </tbody>\n",
       "</table>\n",
       "</div>"
      ],
      "text/plain": [
       "   User_ID  Semester  Ratings\n",
       "0        1         2        3\n",
       "1        1         3        2\n",
       "2        2         1        4\n",
       "3        2         7        1\n",
       "4        2         8        1"
      ]
     },
     "metadata": {},
     "output_type": "display_data"
    },
    {
     "data": {
      "text/plain": [
       "'\\n'"
      ]
     },
     "metadata": {},
     "output_type": "display_data"
    }
   ],
   "source": [
    "##extracting\n",
    "import mysql.connector\n",
    "import pandas as pd\n",
    "# :white_check_mark: Connect to MySQL\n",
    "conn = mysql.connector.connect(\n",
    "    host=\"localhost\",\n",
    "    user=\"root\",\n",
    "    password=\"root\",\n",
    "    database=\"educationbr\"\n",
    ")\n",
    "cursor = conn.cursor()\n",
    "# :white_check_mark: Define function to fetch data from a table\n",
    "def fetch_table_data(table_name):\n",
    "    query = f\"SELECT * FROM {table_name};\"\n",
    "    cursor.execute(query)\n",
    "    rows = cursor.fetchall()\n",
    "    columns = [desc[0] for desc in cursor.description]\n",
    "    return pd.DataFrame(rows, columns=columns)\n",
    "# :white_check_mark: Fetch data from each table\n",
    "users_df = fetch_table_data(\"users\")\n",
    "books_df = fetch_table_data(\"books\")\n",
    "ratings_df = fetch_table_data(\"ratings\")\n",
    "# :white_check_mark: Close the connection\n",
    "cursor.close()\n",
    "conn.close()\n",
    "# :white_check_mark: Display the first 5 rows of each table\n",
    "print(\"Users Table:\")\n",
    "display(users_df.head(), \"\\n\")\n",
    "print(\"Books Table:\")\n",
    "display(books_df.head(), \"\\n\")\n",
    "print(\"Ratings Table:\")\n",
    "display(ratings_df.head(), \"\\n\")\n"
   ]
  },
  {
   "cell_type": "markdown",
   "id": "c2c30326-1e7a-4daf-b0e5-2d917ca77350",
   "metadata": {},
   "source": [
    "### content based filtering "
   ]
  },
  {
   "cell_type": "raw",
   "id": "bccacb7f-f8e6-44db-bf79-3d496ed188dc",
   "metadata": {},
   "source": [
    "import panel as pn\n",
    "import pandas as pd\n",
    "import mysql.connector\n",
    "from sklearn.feature_extraction.text import TfidfVectorizer\n",
    "from sklearn.metrics.pairwise import cosine_similarity\n",
    "pn.extension()\n",
    "# :white_check_mark: Connect to MySQL\n",
    "def get_db_connection():\n",
    "    return mysql.connector.connect(\n",
    "        host=\"localhost\",\n",
    "        user=\"root\",\n",
    "        password=\"root\",\n",
    "        database=\"educationbr\"\n",
    "    )\n",
    "# :white_check_mark: Fetch books dataset\n",
    "def get_books_data():\n",
    "    conn = get_db_connection()\n",
    "    query = \"SELECT * FROM books;\"\n",
    "    books_df = pd.read_sql(query, conn)\n",
    "    conn.close()\n",
    "    return books_df\n",
    "# :white_check_mark: Fetch existing users\n",
    "def get_users():\n",
    "    conn = get_db_connection()\n",
    "    query = \"SELECT DISTINCT User_ID FROM ratings;\"\n",
    "    users_df = pd.read_sql(query, conn)\n",
    "    conn.close()\n",
    "    return users_df['User_ID'].tolist()\n",
    "# :white_check_mark: Fetch distinct branches from books dataset\n",
    "def get_branches():\n",
    "    conn = get_db_connection()\n",
    "    query = \"SELECT DISTINCT Branch FROM books;\"\n",
    "    branches_df = pd.read_sql(query, conn)\n",
    "    conn.close()\n",
    "    return branches_df['Branch'].tolist()\n",
    "# :white_check_mark: Content-Based Recommendation Function\n",
    "def recommend_books(branch, semester):\n",
    "    books_df = get_books_data()\n",
    "    # Filter books based on branch and semester\n",
    "    books_df = books_df[(books_df[\"Branch\"] == branch) & (books_df[\"Semester\"] == semester)]\n",
    "    # Combine features for similarity\n",
    "    books_df[\"combined_features\"] = books_df[\"Branch\"] + \" \" + books_df[\"Book_Title\"] + \" \" + books_df[\"Author\"]\n",
    "    # :white_check_mark: TF-IDF Vectorization\n",
    "    vectorizer = TfidfVectorizer(stop_words=\"english\")\n",
    "    tfidf_matrix = vectorizer.fit_transform(books_df[\"combined_features\"])\n",
    "    # :white_check_mark: Compute similarity\n",
    "    cosine_sim = cosine_similarity(tfidf_matrix, tfidf_matrix)\n",
    "    # Recommend top books\n",
    "    book_indices = cosine_sim.sum(axis=0).argsort()[-5:][::-1]  # Top 5 books\n",
    "    recommended_books = books_df.iloc[book_indices][[\"Book_Title\", \"Author\", \"Branch\", \"Semester\"]]\n",
    "    return recommended_books\n",
    "# :white_check_mark: Panel UI Components\n",
    "users = get_users()\n",
    "branches = get_branches()\n",
    "user_select = pn.widgets.Select(name=\"Select User\", options=[\"New User\"] + users)\n",
    "branch_select = pn.widgets.Select(name=\"Select Branch\", options=branches)\n",
    "new_user_id = pn.widgets.IntInput(name=\"New User ID\", placeholder=\"Enter User ID\")\n",
    "new_user_semester = pn.widgets.IntInput(name=\"New User Semester\", placeholder=\"Enter Semester\")\n",
    "# :white_check_mark: Show all semesters for existing users (1 to 8)\n",
    "all_semesters = [str(i) for i in range(1, 9)]\n",
    "semester_select = pn.widgets.Select(name=\"Select Semester\", options=all_semesters, visible=False)\n",
    "recommend_button = pn.widgets.Button(name=\"Get Recommendations\", button_type=\"primary\")\n",
    "output = pn.pane.DataFrame()\n",
    "# :white_check_mark: Function to Update UI\n",
    "def update_ui(event):\n",
    "    if user_select.value == \"New User\":\n",
    "        new_user_id.visible = True\n",
    "        new_user_semester.visible = True\n",
    "        semester_select.visible = False  # Hide semester dropdown for new users\n",
    "    else:\n",
    "        new_user_id.visible = False\n",
    "        new_user_semester.visible = False\n",
    "        semester_select.visible = True  # Show semester dropdown for existing users\n",
    "user_select.param.watch(update_ui, \"value\")\n",
    "# :white_check_mark: Function to Display Recommendations\n",
    "def get_recommendations(event):\n",
    "    branch = branch_select.value\n",
    "    if user_select.value == \"New User\":\n",
    "        semester = new_user_semester.value\n",
    "    else:\n",
    "        semester = semester_select.value\n",
    "    recommended_books = recommend_books(branch, int(semester))\n",
    "    output.object = recommended_books\n",
    "recommend_button.on_click(get_recommendations)\n",
    "# :white_check_mark: Panel Layout\n",
    "layout = pn.Column(\n",
    "    pn.pane.Markdown(\"## :books: Book Recommendation System\"),\n",
    "    user_select,\n",
    "    new_user_id,\n",
    "    new_user_semester,\n",
    "    branch_select,\n",
    "    semester_select,\n",
    "    recommend_button,\n",
    "    output\n",
    ")\n",
    "layout.servable()\n"
   ]
  },
  {
   "cell_type": "code",
   "execution_count": 23,
   "id": "dea73884-dc60-4bcc-bb3c-57df1f95f0b5",
   "metadata": {},
   "outputs": [
    {
     "data": {
      "application/vnd.jupyter.widget-view+json": {
       "model_id": "2f17919f1a414b97bdf94946ae6f5350",
       "version_major": 2,
       "version_minor": 0
      },
      "text/plain": [
       "Dropdown(description='User:', options=('New User', '1', '2', '3', '4', '5', '6', '7', '8', '9', '10', '11', '1…"
      ]
     },
     "metadata": {},
     "output_type": "display_data"
    },
    {
     "data": {
      "application/vnd.jupyter.widget-view+json": {
       "model_id": "6874ec7b01984b759b8c1877475efe25",
       "version_major": 2,
       "version_minor": 0
      },
      "text/plain": [
       "Dropdown(description='Branch:', options=('Chemical Engineering', 'Computer Science Engineering', 'Electronics …"
      ]
     },
     "metadata": {},
     "output_type": "display_data"
    },
    {
     "data": {
      "application/vnd.jupyter.widget-view+json": {
       "model_id": "aaa23de5dfa2448d991ffe28e790082f",
       "version_major": 2,
       "version_minor": 0
      },
      "text/plain": [
       "Dropdown(description='Semester:', options=('1', '2', '3', '4', '5', '6', '7', '8'), style=DescriptionStyle(des…"
      ]
     },
     "metadata": {},
     "output_type": "display_data"
    },
    {
     "data": {
      "application/vnd.jupyter.widget-view+json": {
       "model_id": "1a229d3a2a024abd970e5aefb23860d0",
       "version_major": 2,
       "version_minor": 0
      },
      "text/plain": [
       "Button(button_style='success', description='Get Recommendations', style=ButtonStyle())"
      ]
     },
     "metadata": {},
     "output_type": "display_data"
    },
    {
     "data": {
      "application/vnd.jupyter.widget-view+json": {
       "model_id": "9ffcbbec94db4490a26ee0664a785db3",
       "version_major": 2,
       "version_minor": 0
      },
      "text/plain": [
       "Output()"
      ]
     },
     "metadata": {},
     "output_type": "display_data"
    }
   ],
   "source": [
    "import pandas as pd\n",
    "import mysql.connector\n",
    "import ipywidgets as widgets\n",
    "from IPython.display import display\n",
    "from sklearn.feature_extraction.text import TfidfVectorizer\n",
    "from sklearn.metrics.pairwise import cosine_similarity\n",
    "\n",
    "# ✅ Connect to MySQL\n",
    "def get_db_connection():\n",
    "    return mysql.connector.connect(\n",
    "        host=\"localhost\",\n",
    "        user=\"root\",\n",
    "        password=\"root\",\n",
    "        database=\"educationbr\"\n",
    "    )\n",
    "\n",
    "# ✅ Fetch books dataset\n",
    "def get_books_data():\n",
    "    conn = get_db_connection()\n",
    "    query = \"SELECT * FROM books;\"\n",
    "    books_df = pd.read_sql(query, conn)\n",
    "    conn.close()\n",
    "    return books_df\n",
    "\n",
    "# ✅ Fetch distinct users\n",
    "def get_users():\n",
    "    conn = get_db_connection()\n",
    "    query = \"SELECT DISTINCT User_ID FROM ratings;\"\n",
    "    users_df = pd.read_sql(query, conn)\n",
    "    conn.close()\n",
    "    return users_df['User_ID'].astype(str).tolist()\n",
    "\n",
    "# ✅ Fetch distinct branches from books dataset\n",
    "def get_branches():\n",
    "    conn = get_db_connection()\n",
    "    query = \"SELECT DISTINCT Branch FROM books;\"\n",
    "    branches_df = pd.read_sql(query, conn)\n",
    "    conn.close()\n",
    "    return branches_df['Branch'].dropna().tolist()\n",
    "\n",
    "# ✅ Content-Based Recommendation Function\n",
    "def recommend_books(branch, semester):\n",
    "    books_df = get_books_data()\n",
    "    \n",
    "    # Filter books based on branch and semester\n",
    "    books_df = books_df[(books_df[\"Branch\"] == branch) & (books_df[\"Semester\"] == semester)]\n",
    "    \n",
    "    if books_df.empty:\n",
    "        return pd.DataFrame({\"Message\": [\"No books found for the selected criteria\"]})\n",
    "    \n",
    "    # Combine features for similarity\n",
    "    books_df[\"combined_features\"] = books_df[\"Branch\"] + \" \" + books_df[\"Book_Title\"] + \" \" + books_df[\"Author\"]\n",
    "\n",
    "    # ✅ TF-IDF Vectorization\n",
    "    vectorizer = TfidfVectorizer(stop_words=\"english\")\n",
    "    tfidf_matrix = vectorizer.fit_transform(books_df[\"combined_features\"])\n",
    "\n",
    "    # ✅ Compute similarity\n",
    "    cosine_sim = cosine_similarity(tfidf_matrix, tfidf_matrix)\n",
    "\n",
    "    # Recommend top books\n",
    "    book_indices = cosine_sim.sum(axis=0).argsort()[-5:][::-1]  # Top 5 books\n",
    "    recommended_books = books_df.iloc[book_indices][[\"Book_Title\", \"Author\", \"Branch\", \"Semester\"]]\n",
    "    \n",
    "    return recommended_books.reset_index(drop=True)\n",
    "\n",
    "# ✅ Create Dropdown Widgets\n",
    "users = get_users()\n",
    "branches = get_branches()\n",
    "\n",
    "user_select = widgets.Dropdown(\n",
    "    options=[\"New User\"] + users,\n",
    "    description=\"User:\",\n",
    "    style={'description_width': 'initial'}\n",
    ")\n",
    "\n",
    "branch_select = widgets.Dropdown(\n",
    "    options=branches,\n",
    "    description=\"Branch:\",\n",
    "    style={'description_width': 'initial'}\n",
    ")\n",
    "\n",
    "semester_select = widgets.Dropdown(\n",
    "    options=[str(i) for i in range(1, 9)],\n",
    "    description=\"Semester:\",\n",
    "    style={'description_width': 'initial'}\n",
    ")\n",
    "\n",
    "recommend_button = widgets.Button(description=\"Get Recommendations\", button_style='success')\n",
    "\n",
    "output = widgets.Output()\n",
    "\n",
    "# ✅ Function to Display Recommendations\n",
    "def get_recommendations(b):\n",
    "    with output:\n",
    "        output.clear_output()\n",
    "        branch = branch_select.value\n",
    "        semester = int(semester_select.value)\n",
    "        \n",
    "        recommended_books = recommend_books(branch, semester)\n",
    "        \n",
    "        display(recommended_books)\n",
    "\n",
    "recommend_button.on_click(get_recommendations)\n",
    "\n",
    "# ✅ Display UI in Jupyter Notebook\n",
    "display(user_select, branch_select, semester_select, recommend_button, output)\n"
   ]
  },
  {
   "cell_type": "markdown",
   "id": "56985832-960e-414a-b2a1-c245d0e01912",
   "metadata": {},
   "source": [
    "### collabrative based filtering "
   ]
  },
  {
   "cell_type": "raw",
   "id": "a8fcb16a-8131-4472-aea5-9db193227232",
   "metadata": {},
   "source": [
    "import panel as pn\n",
    "import pandas as pd\n",
    "import mysql.connector\n",
    "# Connect to MySQL database\n",
    "def fetch_data(query, params=None):\n",
    "    conn = mysql.connector.connect(\n",
    "        host=\"localhost\",\n",
    "        user=\"root\",\n",
    "        password=\"root\",\n",
    "        database=\"educationbr\"\n",
    "    )\n",
    "    cursor = conn.cursor(dictionary=True)\n",
    "    cursor.execute(query, params)\n",
    "    data = cursor.fetchall()\n",
    "    cursor.close()\n",
    "    conn.close()\n",
    "    return pd.DataFrame(data)\n",
    "# Fetch User IDs and Branches\n",
    "user_df = fetch_data(\"SELECT DISTINCT User_ID FROM Ratings\")\n",
    "branches_df = fetch_data(\"SELECT DISTINCT Branch FROM Books\")\n",
    "user_ids = sorted(user_df[\"User_ID\"].astype(str).tolist()) + [\"New User\"]\n",
    "branches = sorted(branches_df[\"Branch\"].astype(str).tolist())\n",
    "# UI Components\n",
    "user_select = pn.widgets.Select(name='User ID', options=user_ids)\n",
    "new_user_input = pn.widgets.TextInput(name='Enter New User ID', placeholder='Enter User ID', visible=False)\n",
    "semester_select = pn.widgets.Select(name='Semester', options=[str(i) for i in range(1, 9)], visible=False)\n",
    "new_semester_input = pn.widgets.Select(name='Enter New Semester', options=[str(i) for i in range(1, 9)], visible=False)\n",
    "branch_select = pn.widgets.Select(name='Branch', options=branches, visible=False)\n",
    "recommend_button = pn.widgets.Button(name='Get Recommendations', button_type='primary')\n",
    "# Function to update UI on user selection\n",
    "def update_ui(event):\n",
    "    if user_select.value == \"New User\":\n",
    "        new_user_input.visible = True\n",
    "        new_semester_input.visible = True\n",
    "        semester_select.visible = False\n",
    "    else:\n",
    "        new_user_input.visible = False\n",
    "        new_semester_input.visible = False\n",
    "        semester_select.visible = True\n",
    "    branch_select.visible = True\n",
    "user_select.param.watch(update_ui, 'value')\n",
    "# Fetch recommended books\n",
    "def get_recommendations():\n",
    "    selected_user = user_select.value\n",
    "    selected_branch = branch_select.value\n",
    "    if selected_user == \"New User\":\n",
    "        selected_semester = int(new_semester_input.value)\n",
    "    else:\n",
    "        selected_semester = int(semester_select.value)\n",
    "    next_semesters = [selected_semester + i for i in range(1, 3) if selected_semester + i <= 8]\n",
    "    if not next_semesters:\n",
    "        return \"No further semester recommendations available.\"\n",
    "    query = \"\"\"\n",
    "        SELECT Book_Title, Author, Year_of_Publication, Price, Semester\n",
    "        FROM Books\n",
    "        WHERE Semester IN (%s)\n",
    "        AND Branch = %s\n",
    "        ORDER BY Price ASC\n",
    "        LIMIT 5\n",
    "    \"\"\" % (', '.join(map(str, next_semesters)), '%s')\n",
    "    books_df = fetch_data(query, (selected_branch,))\n",
    "    if books_df.empty:\n",
    "        return \"No books found for the selected criteria.\"\n",
    "    return books_df\n",
    "# Callback for button\n",
    "def show_recommendations(event):\n",
    "    recommendations.object = get_recommendations()\n",
    "recommend_button.on_click(show_recommendations)\n",
    "recommendations = pn.pane.DataFrame()\n",
    "# Layout\n",
    "dashboard = pn.Column(\n",
    "    \"## Book Recommendation System\",\n",
    "    user_select,\n",
    "    new_user_input,\n",
    "    semester_select,\n",
    "    new_semester_input,\n",
    "    branch_select,\n",
    "    recommend_button,\n",
    "    recommendations\n",
    ")\n",
    "dashboard.servable()"
   ]
  },
  {
   "cell_type": "code",
   "execution_count": 28,
   "id": "0ed1cb28-9b03-48bd-bc1b-39fab79ebeb7",
   "metadata": {},
   "outputs": [
    {
     "data": {
      "application/vnd.jupyter.widget-view+json": {
       "model_id": "bd09c3752b2a4385aaf2d787002b27a8",
       "version_major": 2,
       "version_minor": 0
      },
      "text/plain": [
       "VBox(children=(Label(value='📚 Book Recommendation System'), VBox(children=(Dropdown(description='User ID:', op…"
      ]
     },
     "metadata": {},
     "output_type": "display_data"
    }
   ],
   "source": [
    "import mysql.connector\n",
    "import pandas as pd\n",
    "import ipywidgets as widgets\n",
    "from IPython.display import display, clear_output\n",
    "\n",
    "# ✅ Function to connect and fetch data from MySQL\n",
    "def fetch_data(query, params=None):\n",
    "    conn = mysql.connector.connect(\n",
    "        host=\"localhost\",\n",
    "        user=\"root\",\n",
    "        password=\"root\",\n",
    "        database=\"educationbr\"\n",
    "    )\n",
    "    cursor = conn.cursor(dictionary=True)\n",
    "    cursor.execute(query, params or ())\n",
    "    data = cursor.fetchall()\n",
    "    cursor.close()\n",
    "    conn.close()\n",
    "    return pd.DataFrame(data)\n",
    "\n",
    "# ✅ Fetch User IDs and Branches\n",
    "user_df = fetch_data(\"SELECT DISTINCT User_ID FROM Ratings\")\n",
    "branches_df = fetch_data(\"SELECT DISTINCT Branch FROM Books\")\n",
    "\n",
    "user_ids = sorted(user_df[\"User_ID\"].astype(str).tolist()) + [\"New User\"]\n",
    "branches = sorted(branches_df[\"Branch\"].astype(str).tolist())\n",
    "\n",
    "# ✅ Create UI Elements\n",
    "user_select = widgets.Dropdown(options=user_ids, description=\"User ID:\")\n",
    "new_user_input = widgets.Text(placeholder=\"Enter User ID\")\n",
    "semester_select = widgets.Dropdown(options=[str(i) for i in range(1, 9)], description=\"Semester:\")\n",
    "new_semester_input = widgets.Dropdown(options=[str(i) for i in range(1, 9)], description=\"New Semester:\")\n",
    "branch_select = widgets.Dropdown(options=branches, description=\"Branch:\")\n",
    "\n",
    "recommend_button = widgets.Button(description=\"Get Recommendations\", button_style=\"primary\")\n",
    "output_area = widgets.Output()\n",
    "\n",
    "# ✅ Ensure correct layout by making inputs **vertical**\n",
    "user_layout = widgets.VBox([user_select, new_user_input])\n",
    "semester_layout = widgets.VBox([semester_select, new_semester_input])\n",
    "branch_layout = widgets.VBox([branch_select])\n",
    "button_layout = widgets.VBox([recommend_button])\n",
    "\n",
    "# ✅ Update UI when user selects \"New User\"\n",
    "def update_ui(change):\n",
    "    if user_select.value == \"New User\":\n",
    "        new_user_input.layout.display = \"block\"\n",
    "        new_semester_input.layout.display = \"block\"\n",
    "        semester_select.layout.display = \"none\"\n",
    "    else:\n",
    "        new_user_input.layout.display = \"none\"\n",
    "        new_semester_input.layout.display = \"none\"\n",
    "        semester_select.layout.display = \"block\"\n",
    "    branch_select.layout.display = \"block\"\n",
    "\n",
    "user_select.observe(update_ui, names=\"value\")\n",
    "\n",
    "# ✅ Fetch recommended books\n",
    "def get_recommendations():\n",
    "    selected_user = user_select.value\n",
    "    selected_branch = branch_select.value\n",
    "    \n",
    "    if not selected_branch:\n",
    "        return \"⚠️ Please select a branch.\"\n",
    "\n",
    "    if selected_user == \"New User\":\n",
    "        selected_semester = new_semester_input.value\n",
    "    else:\n",
    "        selected_semester = semester_select.value\n",
    "\n",
    "    if not selected_semester:\n",
    "        return \"⚠️ Please select a semester.\"\n",
    "\n",
    "    selected_semester = int(selected_semester)\n",
    "    next_semesters = [selected_semester + i for i in range(1, 3) if selected_semester + i <= 8]\n",
    "\n",
    "    if not next_semesters:\n",
    "        return \"✅ No further semester recommendations available.\"\n",
    "\n",
    "    query = f\"\"\"\n",
    "        SELECT Book_Title, Author, Year_of_Publication, Price, Semester\n",
    "        FROM Books\n",
    "        WHERE Semester IN ({', '.join(map(str, next_semesters))})\n",
    "        AND Branch = %s\n",
    "        ORDER BY Price ASC\n",
    "        LIMIT 5\n",
    "    \"\"\"\n",
    "\n",
    "    books_df = fetch_data(query, (selected_branch,))\n",
    "\n",
    "    if books_df.empty:\n",
    "        return \"🚫 No books found for the selected criteria.\"\n",
    "\n",
    "    return books_df\n",
    "\n",
    "# ✅ Button Click Event\n",
    "def show_recommendations(b):\n",
    "    with output_area:\n",
    "        clear_output(wait=True)\n",
    "        result = get_recommendations()\n",
    "        display(result if isinstance(result, pd.DataFrame) else widgets.HTML(f\"<b>{result}</b>\"))\n",
    "\n",
    "recommend_button.on_click(show_recommendations)\n",
    "\n",
    "# ✅ Display UI in Jupyter Notebook (Properly aligned)\n",
    "display(\n",
    "    widgets.VBox([\n",
    "        widgets.Label(\"📚 Book Recommendation System\", style={\"font-weight\": \"bold\", \"font-size\": \"18px\"}),\n",
    "        user_layout,  # User selection on a separate line\n",
    "        semester_layout,  # Semester selection on a separate line\n",
    "        branch_layout,  # Branch selection on a separate line\n",
    "        button_layout,  # Button below branch selection\n",
    "        output_area  # Displays results below everything\n",
    "    ])\n",
    ")\n"
   ]
  },
  {
   "cell_type": "markdown",
   "id": "e2e81b0f-e495-4718-88b9-92cfcbde1821",
   "metadata": {},
   "source": [
    "### HYBRID FILTERING"
   ]
  },
  {
   "cell_type": "code",
   "execution_count": 35,
   "id": "da5e0524-7be7-412e-b340-a849ef86ea42",
   "metadata": {},
   "outputs": [
    {
     "data": {
      "application/vnd.jupyter.widget-view+json": {
       "model_id": "d21549239bfa4428a503d1f61d2991d4",
       "version_major": 2,
       "version_minor": 0
      },
      "text/plain": [
       "VBox(children=(Label(value='📚 Book Recommendation System'), Dropdown(description='User ID:', options=('1', '10…"
      ]
     },
     "metadata": {},
     "output_type": "display_data"
    }
   ],
   "source": [
    "import mysql.connector\n",
    "import pandas as pd\n",
    "import ipywidgets as widgets\n",
    "from IPython.display import display, clear_output\n",
    "\n",
    "# ✅ Function to connect and fetch data from MySQL\n",
    "def fetch_data(query, params=None):\n",
    "    conn = mysql.connector.connect(\n",
    "        host=\"localhost\",\n",
    "        user=\"root\",\n",
    "        password=\"root\",\n",
    "        database=\"educationbr\"\n",
    "    )\n",
    "    cursor = conn.cursor(dictionary=True)\n",
    "    cursor.execute(query, params or ())\n",
    "    data = cursor.fetchall()\n",
    "    cursor.close()\n",
    "    conn.close()\n",
    "    return pd.DataFrame(data)\n",
    "\n",
    "# ✅ Fetch User IDs and Branches\n",
    "user_df = fetch_data(\"SELECT DISTINCT User_ID FROM Ratings\")\n",
    "branches_df = fetch_data(\"SELECT DISTINCT Branch FROM Books\")\n",
    "\n",
    "user_ids = sorted(user_df[\"User_ID\"].astype(str).tolist()) + [\"New User\"]\n",
    "branches = sorted(branches_df[\"Branch\"].astype(str).tolist())\n",
    "\n",
    "# ✅ Create UI Elements\n",
    "user_select = widgets.Dropdown(options=user_ids, description=\"User ID:\")\n",
    "new_user_input = widgets.Text(placeholder=\"Enter New User ID\")\n",
    "semester_select = widgets.Dropdown(options=[str(i) for i in range(1, 9)], description=\"Semester:\")\n",
    "new_semester_input = widgets.Dropdown(options=[str(i) for i in range(1, 9)], description=\"New Semester:\")\n",
    "branch_select = widgets.Dropdown(options=branches, description=\"Branch:\")\n",
    "\n",
    "recommend_button = widgets.Button(description=\"Get Recommendations\", button_style=\"primary\")\n",
    "output_area = widgets.Output()\n",
    "\n",
    "# ✅ Hide new user fields initially\n",
    "new_user_input.layout.display = \"none\"\n",
    "new_semester_input.layout.display = \"none\"\n",
    "\n",
    "# ✅ Update UI when user selects \"New User\"\n",
    "def update_ui(change):\n",
    "    if user_select.value == \"New User\":\n",
    "        new_user_input.layout.display = \"block\"\n",
    "        new_semester_input.layout.display = \"block\"\n",
    "        semester_select.layout.display = \"none\"\n",
    "    else:\n",
    "        new_user_input.layout.display = \"none\"\n",
    "        new_semester_input.layout.display = \"none\"\n",
    "        semester_select.layout.display = \"block\"\n",
    "\n",
    "user_select.observe(update_ui, names=\"value\")\n",
    "\n",
    "# ✅ Fetch recommended books\n",
    "def get_recommendations():\n",
    "    selected_user = user_select.value\n",
    "    selected_branch = branch_select.value\n",
    "\n",
    "    if not selected_branch:\n",
    "        return \"⚠️ Please select a branch.\"\n",
    "\n",
    "    selected_semester = int(new_semester_input.value) if selected_user == \"New User\" else int(semester_select.value)\n",
    "\n",
    "    next_semesters = [selected_semester + i for i in range(0, 3) if selected_semester + i <= 8]\n",
    "\n",
    "    if not next_semesters:\n",
    "        return \"✅ No further semester recommendations available.\"\n",
    "\n",
    "    query = f\"\"\"\n",
    "        SELECT DISTINCT Book_Title, Author, Semester, Branch\n",
    "        FROM Books\n",
    "        WHERE Semester IN ({', '.join(map(str, next_semesters))})\n",
    "        AND Branch = %s\n",
    "    \"\"\"\n",
    "\n",
    "    books_df = fetch_data(query, (selected_branch,))\n",
    "\n",
    "    books_df = books_df.drop_duplicates(subset=['Book_Title'])\n",
    "\n",
    "    return books_df if not books_df.empty else \"🚫 No books found for the selected criteria.\"\n",
    "\n",
    "# ✅ Button Click Event\n",
    "def show_recommendations(b):\n",
    "    with output_area:\n",
    "        clear_output(wait=True)\n",
    "        result = get_recommendations()\n",
    "        display(result if isinstance(result, pd.DataFrame) else widgets.HTML(f\"<b>{result}</b>\"))\n",
    "\n",
    "recommend_button.on_click(show_recommendations)\n",
    "\n",
    "# ✅ Display UI in Jupyter Notebook (Proper Layout)\n",
    "display(\n",
    "    widgets.VBox([\n",
    "        widgets.Label(\"📚 Book Recommendation System\", style={\"font-weight\": \"bold\", \"font-size\": \"18px\"}),\n",
    "        user_select,\n",
    "        new_user_input,\n",
    "        semester_select,\n",
    "        new_semester_input,\n",
    "        branch_select,\n",
    "        recommend_button,\n",
    "        output_area  # Results appear here\n",
    "    ])\n",
    ")\n"
   ]
  },
  {
   "cell_type": "markdown",
   "id": "b9da7dde-8df6-4f0c-a0f2-bd5c70cb5cd5",
   "metadata": {},
   "source": [
    "### SAVING THE MODELS"
   ]
  },
  {
   "cell_type": "code",
   "execution_count": 38,
   "id": "1160a555-a572-4e31-83b4-be1f36f4e68a",
   "metadata": {},
   "outputs": [
    {
     "name": "stdout",
     "output_type": "stream",
     "text": [
      ":white_check_mark: Models saved successfully in the 'models' folder.\n"
     ]
    }
   ],
   "source": [
    "import pickle\n",
    "import os\n",
    "import pandas as pd\n",
    "import mysql.connector\n",
    "from sklearn.feature_extraction.text import TfidfVectorizer\n",
    "from sklearn.metrics.pairwise import cosine_similarity\n",
    "# :white_check_mark: Ensure the 'models' directory exists\n",
    "os.makedirs(\"./models\", exist_ok=True)\n",
    "# :white_check_mark: Connect to MySQL Database using mysql.connector\n",
    "db_connection = mysql.connector.connect(\n",
    "    host=\"localhost\",\n",
    "    user=\"root\",\n",
    "    password=\"root\",\n",
    "    database=\"educationbr\"\n",
    ")\n",
    "# :white_check_mark: Load book data from MySQL\n",
    "query = \"SELECT Branch, Book_Title, Author FROM Books\"\n",
    "books_df = pd.read_sql(query, con=db_connection)\n",
    "# :white_check_mark: Close database connection\n",
    "db_connection.close()\n",
    "# :white_check_mark: Prepare text features for recommendation\n",
    "books_df[\"combined_features\"] = books_df[\"Branch\"] + \" \" + books_df[\"Book_Title\"] + \" \" + books_df[\"Author\"]\n",
    "# :white_check_mark: Train TF-IDF Vectorizer on books data\n",
    "tfidf_vectorizer = TfidfVectorizer(stop_words=\"english\")\n",
    "tfidf_matrix = tfidf_vectorizer.fit_transform(books_df[\"combined_features\"])\n",
    "# :white_check_mark: Compute Cosine Similarity Matrix\n",
    "cosine_sim_matrix = cosine_similarity(tfidf_matrix, tfidf_matrix)\n",
    "# :white_check_mark: Save the models in the 'models' folder\n",
    "pickle.dump(tfidf_vectorizer, open(\"./models/tfidf_vectorizer.sav\", \"wb\"))\n",
    "pickle.dump(cosine_sim_matrix, open(\"./models/cosine_similarity_matrix.sav\", \"wb\"))\n",
    "print(\":white_check_mark: Models saved successfully in the 'models' folder.\")"
   ]
  },
  {
   "cell_type": "code",
   "execution_count": null,
   "id": "dcba5cbf-adfc-440c-be0a-ee74f91e4ce3",
   "metadata": {},
   "outputs": [],
   "source": []
  }
 ],
 "metadata": {
  "kernelspec": {
   "display_name": "Python 3 (ipykernel)",
   "language": "python",
   "name": "python3"
  },
  "language_info": {
   "codemirror_mode": {
    "name": "ipython",
    "version": 3
   },
   "file_extension": ".py",
   "mimetype": "text/x-python",
   "name": "python",
   "nbconvert_exporter": "python",
   "pygments_lexer": "ipython3",
   "version": "3.9.18"
  }
 },
 "nbformat": 4,
 "nbformat_minor": 5
}
