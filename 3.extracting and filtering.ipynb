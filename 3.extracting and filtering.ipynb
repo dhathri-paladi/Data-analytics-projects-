{
 "cells": [
  {
   "cell_type": "code",
   "execution_count": 1,
   "id": "010dbd52-09b7-4974-ad5f-3316f934f288",
   "metadata": {},
   "outputs": [
    {
     "name": "stdout",
     "output_type": "stream",
     "text": [
      "✅ Connected to MySQL Database\n"
     ]
    },
    {
     "name": "stderr",
     "output_type": "stream",
     "text": [
      "C:\\Users\\SREE GANESHA\\AppData\\Local\\Temp\\ipykernel_1316\\1321345816.py:26: UserWarning: pandas only supports SQLAlchemy connectable (engine/connection) or database string URI or sqlite3 DBAPI2 connection. Other DBAPI2 objects are not tested. Please consider using SQLAlchemy.\n",
      "  df = pd.read_sql(query, connection)\n"
     ]
    },
    {
     "name": "stdout",
     "output_type": "stream",
     "text": [
      "✅ Data successfully extracted from MySQL\n",
      "   Product_ID                 Product_Name    Category          Material  \\\n",
      "0           1            Bamboo Toothbrush  Toothbrush            Bamboo   \n",
      "1           2  Recycled Plastic Toothbrush  Toothbrush  Recycled Plastic   \n",
      "2           3        Cornstarch Toothbrush  Toothbrush        Cornstarch   \n",
      "3           4          Silicone Toothbrush  Toothbrush          Silicone   \n",
      "4           5  Charcoal-infused Toothbrush  Toothbrush  Charcoal-infused   \n",
      "\n",
      "   Price                                        Description     Brand  \\\n",
      "0  45.67  Eco-friendly Toothbrush made from Bamboo. Sust...  EcoBrand   \n",
      "1  24.41  Eco-friendly Toothbrush made from Recycled Pla...  EcoBrand   \n",
      "2  16.19  Eco-friendly Toothbrush made from Cornstarch. ...  EcoBrand   \n",
      "3  48.35  Eco-friendly Toothbrush made from Silicone. Su...  EcoBrand   \n",
      "4  15.17  Eco-friendly Toothbrush made from Charcoal-inf...  EcoBrand   \n",
      "\n",
      "   Availability  User_ID  Ratings  \n",
      "0      In Stock      100     8.36  \n",
      "1      In Stock      101     7.98  \n",
      "2  Out of Stock      102     8.89  \n",
      "3  Out of Stock      103     7.21  \n",
      "4      In Stock      104     9.01  \n",
      "✅ MySQL connection is closed\n"
     ]
    }
   ],
   "source": [
    "import mysql.connector\n",
    "import pandas as pd\n",
    "\n",
    "# Database connection details\n",
    "HOST = \"localhost\"\n",
    "USER = \"root\"\n",
    "PASSWORD = \"root\"\n",
    "DATABASE = \"eco_friendly\"\n",
    "\n",
    "try:\n",
    "    # Connect to MySQL database\n",
    "    connection = mysql.connector.connect(\n",
    "        host=HOST,\n",
    "        user=USER,\n",
    "        password=PASSWORD,\n",
    "        database=DATABASE\n",
    "    )\n",
    "\n",
    "    if connection.is_connected():\n",
    "        print(\"✅ Connected to MySQL Database\")\n",
    "\n",
    "        # Query to fetch all data from the Products table\n",
    "        query = \"SELECT * FROM Products\"\n",
    "\n",
    "        # Load data into a Pandas DataFrame\n",
    "        df = pd.read_sql(query, connection)\n",
    "\n",
    "        print(\"✅ Data successfully extracted from MySQL\")\n",
    "        print(df.head())  # Display first 5 rows\n",
    "\n",
    "except mysql.connector.Error as e:\n",
    "    print(f\"❌ Error: {e}\")\n",
    "\n",
    "finally:\n",
    "    if connection.is_connected():\n",
    "        connection.close()\n",
    "        print(\"✅ MySQL connection is closed\")\n"
   ]
  },
  {
   "cell_type": "markdown",
   "id": "4b00d670-cfe3-4a43-b0f3-ad8f46913497",
   "metadata": {},
   "source": [
    "### CONTENT BASED FILTERING"
   ]
  },
  {
   "cell_type": "code",
   "execution_count": 2,
   "id": "5b4e186c-609f-4263-94a0-bec64273bf36",
   "metadata": {},
   "outputs": [
    {
     "data": {
      "text/plain": [
       "Index(['Product_ID', 'Product_Name', 'Category', 'Material', 'Price',\n",
       "       'Description', 'Brand', 'Availability', 'User_ID', 'Ratings'],\n",
       "      dtype='object')"
      ]
     },
     "execution_count": 2,
     "metadata": {},
     "output_type": "execute_result"
    }
   ],
   "source": [
    "df.columns"
   ]
  },
  {
   "cell_type": "code",
   "execution_count": 3,
   "id": "c5608b29-be05-42d0-91eb-3dd56ae3d421",
   "metadata": {},
   "outputs": [
    {
     "name": "stdout",
     "output_type": "stream",
     "text": [
      "Available Categories: ['Toothbrush' 'Bag' 'Water Bottle' 'Clothing' 'Cutlery' 'Notebook' 'Shoes'\n",
      " 'Toys' 'Straws' 'Phone Cases']\n"
     ]
    },
    {
     "name": "stdin",
     "output_type": "stream",
     "text": [
      "Enter the category you want recommendations from:  Bag\n"
     ]
    },
    {
     "name": "stdout",
     "output_type": "stream",
     "text": [
      "\n",
      "Number of products in 'Bag': 10\n",
      "\n",
      "Columns in df_filtered: ['Product_ID', 'Product_Name', 'Category', 'Material', 'Price', 'Description', 'Brand', 'Availability', 'User_ID', 'Ratings']\n",
      "\n",
      "Available Products in Category: Bag\n",
      "['Jute Bag', 'Hemp Bag', 'Organic Cotton Bag', 'Recycled Plastic Bag', 'Cork Bag', 'Canvas Bag', 'Bamboo Fiber Bag', 'Paper Bag', 'Upcycled Denim Bag', 'Tyvek Bag']\n"
     ]
    },
    {
     "name": "stdin",
     "output_type": "stream",
     "text": [
      "Enter the product name for recommendations:  Organic Cotton Bag\n"
     ]
    },
    {
     "name": "stdout",
     "output_type": "stream",
     "text": [
      "\n",
      "Recommended Products:\n"
     ]
    },
    {
     "data": {
      "text/html": [
       "<div>\n",
       "<style scoped>\n",
       "    .dataframe tbody tr th:only-of-type {\n",
       "        vertical-align: middle;\n",
       "    }\n",
       "\n",
       "    .dataframe tbody tr th {\n",
       "        vertical-align: top;\n",
       "    }\n",
       "\n",
       "    .dataframe thead th {\n",
       "        text-align: right;\n",
       "    }\n",
       "</style>\n",
       "<table border=\"1\" class=\"dataframe\">\n",
       "  <thead>\n",
       "    <tr style=\"text-align: right;\">\n",
       "      <th></th>\n",
       "      <th>Product_ID</th>\n",
       "      <th>User_ID</th>\n",
       "      <th>Product_Name</th>\n",
       "      <th>Category</th>\n",
       "      <th>Material</th>\n",
       "      <th>Price</th>\n",
       "      <th>Description</th>\n",
       "      <th>Brand</th>\n",
       "      <th>Availability</th>\n",
       "      <th>Ratings</th>\n",
       "    </tr>\n",
       "  </thead>\n",
       "  <tbody>\n",
       "    <tr>\n",
       "      <th>0</th>\n",
       "      <td>11</td>\n",
       "      <td>110</td>\n",
       "      <td>Jute Bag</td>\n",
       "      <td>Bag</td>\n",
       "      <td>Jute</td>\n",
       "      <td>8.28</td>\n",
       "      <td>Eco-friendly Bag made from Jute. Sustainable a...</td>\n",
       "      <td>EcoBrand</td>\n",
       "      <td>In Stock</td>\n",
       "      <td>8.77</td>\n",
       "    </tr>\n",
       "    <tr>\n",
       "      <th>1</th>\n",
       "      <td>12</td>\n",
       "      <td>111</td>\n",
       "      <td>Hemp Bag</td>\n",
       "      <td>Bag</td>\n",
       "      <td>Hemp</td>\n",
       "      <td>35.79</td>\n",
       "      <td>Eco-friendly Bag made from Hemp. Sustainable a...</td>\n",
       "      <td>EcoBrand</td>\n",
       "      <td>In Stock</td>\n",
       "      <td>8.47</td>\n",
       "    </tr>\n",
       "    <tr>\n",
       "      <th>4</th>\n",
       "      <td>15</td>\n",
       "      <td>114</td>\n",
       "      <td>Cork Bag</td>\n",
       "      <td>Bag</td>\n",
       "      <td>Cork</td>\n",
       "      <td>25.95</td>\n",
       "      <td>Eco-friendly Bag made from Cork. Sustainable a...</td>\n",
       "      <td>EcoBrand</td>\n",
       "      <td>In Stock</td>\n",
       "      <td>6.45</td>\n",
       "    </tr>\n",
       "    <tr>\n",
       "      <th>5</th>\n",
       "      <td>16</td>\n",
       "      <td>115</td>\n",
       "      <td>Canvas Bag</td>\n",
       "      <td>Bag</td>\n",
       "      <td>Canvas</td>\n",
       "      <td>16.58</td>\n",
       "      <td>Eco-friendly Bag made from Canvas. Sustainable...</td>\n",
       "      <td>EcoBrand</td>\n",
       "      <td>In Stock</td>\n",
       "      <td>8.64</td>\n",
       "    </tr>\n",
       "    <tr>\n",
       "      <th>7</th>\n",
       "      <td>18</td>\n",
       "      <td>117</td>\n",
       "      <td>Paper Bag</td>\n",
       "      <td>Bag</td>\n",
       "      <td>Paper</td>\n",
       "      <td>21.42</td>\n",
       "      <td>Eco-friendly Bag made from Paper. Sustainable ...</td>\n",
       "      <td>EcoBrand</td>\n",
       "      <td>In Stock</td>\n",
       "      <td>7.12</td>\n",
       "    </tr>\n",
       "  </tbody>\n",
       "</table>\n",
       "</div>"
      ],
      "text/plain": [
       "   Product_ID  User_ID Product_Name Category Material  Price  \\\n",
       "0          11      110     Jute Bag      Bag     Jute   8.28   \n",
       "1          12      111     Hemp Bag      Bag     Hemp  35.79   \n",
       "4          15      114     Cork Bag      Bag     Cork  25.95   \n",
       "5          16      115   Canvas Bag      Bag   Canvas  16.58   \n",
       "7          18      117    Paper Bag      Bag    Paper  21.42   \n",
       "\n",
       "                                         Description     Brand Availability  \\\n",
       "0  Eco-friendly Bag made from Jute. Sustainable a...  EcoBrand     In Stock   \n",
       "1  Eco-friendly Bag made from Hemp. Sustainable a...  EcoBrand     In Stock   \n",
       "4  Eco-friendly Bag made from Cork. Sustainable a...  EcoBrand     In Stock   \n",
       "5  Eco-friendly Bag made from Canvas. Sustainable...  EcoBrand     In Stock   \n",
       "7  Eco-friendly Bag made from Paper. Sustainable ...  EcoBrand     In Stock   \n",
       "\n",
       "   Ratings  \n",
       "0     8.77  \n",
       "1     8.47  \n",
       "4     6.45  \n",
       "5     8.64  \n",
       "7     7.12  "
      ]
     },
     "metadata": {},
     "output_type": "display_data"
    }
   ],
   "source": [
    "import pandas as pd\n",
    "import numpy as np\n",
    "from sklearn.feature_extraction.text import TfidfVectorizer\n",
    "from sklearn.metrics.pairwise import cosine_similarity\n",
    "\n",
    "# Ensure column names are clean\n",
    "df.columns = df.columns.str.strip()\n",
    "\n",
    "# Debugging: Check available categories\n",
    "print(\"Available Categories:\", df['Category'].unique())\n",
    "\n",
    "# Step 2: Ask User to Select a Category\n",
    "selected_category = input(\"Enter the category you want recommendations from: \").strip()\n",
    "\n",
    "# Step 3: Filter Products by Selected Category\n",
    "df_filtered = df[df['Category'].str.strip() == selected_category].reset_index(drop=True)\n",
    "\n",
    "# Debugging: Check if filtering worked\n",
    "print(f\"\\nNumber of products in '{selected_category}':\", len(df_filtered))\n",
    "if df_filtered.empty:\n",
    "    print(\"No products found in this category. Please try again.\")\n",
    "    exit()\n",
    "\n",
    "# Step 4: Ensure column names are clean in df_filtered\n",
    "df_filtered.columns = df_filtered.columns.str.strip()\n",
    "\n",
    "# Debugging: Check if 'Product_Name' exists\n",
    "print(\"\\nColumns in df_filtered:\", df_filtered.columns.tolist())\n",
    "if 'Product_Name' not in df_filtered.columns:\n",
    "    print(\"Error: 'Product_Name' column is missing. Please check the dataset.\")\n",
    "    exit()\n",
    "\n",
    "# Step 5: Combine 'Category', 'Material', and 'Description' into a single feature\n",
    "df_filtered['combined_features'] = df_filtered['Category'] + \" \" + df_filtered['Material'] + \" \" + df_filtered['Description']\n",
    "\n",
    "# Step 6: Convert text data into numerical form (TF-IDF Vectorization)\n",
    "tfidf = TfidfVectorizer(stop_words='english')\n",
    "tfidf_matrix = tfidf.fit_transform(df_filtered['combined_features'])\n",
    "\n",
    "# Step 7: Compute Similarity Matrix\n",
    "cosine_sim = cosine_similarity(tfidf_matrix, tfidf_matrix)\n",
    "\n",
    "# Step 8: Create Recommendation Function\n",
    "def recommend_products(product_name, num_recommendations=5):\n",
    "    # Check if the product exists\n",
    "    if product_name not in df_filtered['Product_Name'].values:\n",
    "        print(\"Product not found in the selected category.\")\n",
    "        return None\n",
    "\n",
    "    # Find index of the product\n",
    "    idx = df_filtered[df_filtered['Product_Name'] == product_name].index[0]\n",
    "\n",
    "    # Get similarity scores for all products in the selected category\n",
    "    sim_scores = list(enumerate(cosine_sim[idx]))\n",
    "\n",
    "    # Sort products by similarity score (highest first)\n",
    "    sim_scores = sorted(sim_scores, key=lambda x: x[1], reverse=True)\n",
    "\n",
    "    # Get top N similar products (excluding itself)\n",
    "    sim_scores = sim_scores[1:num_recommendations+1]\n",
    "\n",
    "    # Get recommended product indices\n",
    "    product_indices = [i[0] for i in sim_scores]\n",
    "\n",
    "    # Return top recommended products\n",
    "    return df_filtered[['Product_ID', 'User_ID', 'Product_Name', 'Category', 'Material',\n",
    "                        'Price', 'Description', 'Brand', 'Availability', 'Ratings']].iloc[product_indices]\n",
    "\n",
    "# Step 9: Ask User for a Product Name in the Selected Category\n",
    "print(\"\\nAvailable Products in Category:\", selected_category)\n",
    "print(df_filtered['Product_Name'].tolist())\n",
    "\n",
    "product_to_search = input(\"Enter the product name for recommendations: \").strip()\n",
    "\n",
    "# Step 10: Get Recommendations\n",
    "recommendations = recommend_products(product_to_search, 5)\n",
    "\n",
    "if recommendations is not None:\n",
    "    print(\"\\nRecommended Products:\")\n",
    "    display(recommendations)\n"
   ]
  },
  {
   "cell_type": "markdown",
   "id": "4d2afd8e-61a9-4de3-84f1-6778280f75c4",
   "metadata": {},
   "source": [
    "### COLABRATIVE FILTERING"
   ]
  },
  {
   "cell_type": "code",
   "execution_count": 8,
   "id": "804096c1-d3d7-4fc1-91ad-f859c3a3fb5e",
   "metadata": {},
   "outputs": [
    {
     "name": "stdin",
     "output_type": "stream",
     "text": [
      "Enter User ID for recommendations:  102\n"
     ]
    },
    {
     "data": {
      "application/vnd.jupyter.widget-view+json": {
       "model_id": "9053a5b3e5a74eb98be4c2d9b105c0a2",
       "version_major": 2,
       "version_minor": 0
      },
      "text/plain": [
       "Dropdown(description='Select Product:', options=('Bamboo Toothbrush', 'Recycled Plastic Toothbrush', 'Cornstar…"
      ]
     },
     "metadata": {},
     "output_type": "display_data"
    },
    {
     "data": {
      "application/vnd.jupyter.widget-view+json": {
       "model_id": "db02acc9f1bd49d69b73e790e3a3d348",
       "version_major": 2,
       "version_minor": 0
      },
      "text/plain": [
       "Button(button_style='primary', description='Get Recommendations', style=ButtonStyle())"
      ]
     },
     "metadata": {},
     "output_type": "display_data"
    },
    {
     "data": {
      "application/vnd.jupyter.widget-view+json": {
       "model_id": "072fd1462b654a35bfb1f38ca61fdeb6",
       "version_major": 2,
       "version_minor": 0
      },
      "text/plain": [
       "Output()"
      ]
     },
     "metadata": {},
     "output_type": "display_data"
    }
   ],
   "source": [
    "import pandas as pd\n",
    "import numpy as np\n",
    "from sklearn.metrics.pairwise import cosine_similarity\n",
    "from scipy.spatial.distance import jaccard\n",
    "import ipywidgets as widgets\n",
    "from IPython.display import display, clear_output\n",
    "\n",
    "# Sample DataFrame (Replace with your dataset)\n",
    "df \n",
    "\n",
    "# Step 1: Get User ID Input\n",
    "user_id = int(input(\"Enter User ID for recommendations: \"))\n",
    "\n",
    "# Step 2: Dropdown for Product Selection\n",
    "product_dropdown = widgets.Dropdown(\n",
    "    options=df['Product_Name'].unique(),\n",
    "    description=\"Select Product:\",\n",
    "    disabled=False\n",
    ")\n",
    "\n",
    "# Step 3: Button to Trigger Recommendations\n",
    "recommend_button = widgets.Button(\n",
    "    description=\"Get Recommendations\",\n",
    "    button_style=\"primary\"\n",
    ")\n",
    "\n",
    "# Output widget to display results\n",
    "output = widgets.Output()\n",
    "\n",
    "# Function to Calculate Jaccard Similarity\n",
    "def calculate_jaccard_similarity(df):\n",
    "    features = df[['Price', 'Ratings']].values\n",
    "    binary_features = np.where(features > np.median(features, axis=0), 1, 0)\n",
    "    sim_matrix = np.zeros((len(df), len(df)))\n",
    "\n",
    "    for i in range(len(df)):\n",
    "        for j in range(len(df)):\n",
    "            sim_matrix[i][j] = 1 - jaccard(binary_features[i], binary_features[j])\n",
    "    \n",
    "    return sim_matrix\n",
    "\n",
    "# Function to Get Recommendations\n",
    "def recommend_products(user_id, product_name, num_recommendations=5):\n",
    "    # Check if product exists\n",
    "    if product_name not in df['Product_Name'].values:\n",
    "        with output:\n",
    "            clear_output()\n",
    "            print(\"\\n⚠️ Product not found in dataset.\")\n",
    "        return None\n",
    "\n",
    "    # Compute Jaccard similarity\n",
    "    similarity_matrix = calculate_jaccard_similarity(df)\n",
    "\n",
    "    # Get index of selected product\n",
    "    product_idx = df[df['Product_Name'] == product_name].index[0]\n",
    "\n",
    "    # Find similar products\n",
    "    sim_scores = list(enumerate(similarity_matrix[product_idx]))\n",
    "    sim_scores = sorted(sim_scores, key=lambda x: x[1], reverse=True)\n",
    "    sim_scores = sim_scores[1:num_recommendations + 1]\n",
    "\n",
    "    # Get recommended product indices\n",
    "    product_indices = [i[0] for i in sim_scores]\n",
    "\n",
    "    # Display recommended products\n",
    "    with output:\n",
    "        clear_output()\n",
    "        print(\"\\n🔹 Recommended Products Based on:\", product_name, \" (Jaccard Similarity)\")\n",
    "        display(df.iloc[product_indices])\n",
    "\n",
    "# Function to Handle Button Click\n",
    "def on_button_click(b):\n",
    "    selected_product = product_dropdown.value\n",
    "    if selected_product:\n",
    "        recommend_products(user_id, selected_product, 5)\n",
    "\n",
    "# Link button to function\n",
    "recommend_button.on_click(on_button_click)\n",
    "\n",
    "# Display widgets\n",
    "display(product_dropdown, recommend_button, output)\n"
   ]
  },
  {
   "cell_type": "markdown",
   "id": "2bec1a32-69bb-4cae-8b5b-ca9078fa538d",
   "metadata": {},
   "source": [
    "### HYBRID FILTERING "
   ]
  },
  {
   "cell_type": "raw",
   "id": "0de5158b-33b3-4b8a-8e74-c75a1e4438f9",
   "metadata": {},
   "source": [
    "import pandas as pd\n",
    "import numpy as np\n",
    "from sklearn.feature_extraction.text import TfidfVectorizer\n",
    "from sklearn.metrics.pairwise import cosine_similarity\n",
    "from scipy.spatial.distance import jaccard\n",
    "import ipywidgets as widgets\n",
    "from IPython.display import display, clear_output\n",
    "\n",
    "# Ensure column names are clean\n",
    "df.columns = df.columns.str.strip()\n",
    "\n",
    "# Step 1: Get User ID Input\n",
    "user_id = int(input(\"Enter User ID for recommendations: \"))\n",
    "\n",
    "# Step 2: Dropdown for Category Selection\n",
    "category_dropdown = widgets.Dropdown(\n",
    "    options=np.append([\"All Categories\"], df['Category'].unique()),\n",
    "    description=\"Category:\",\n",
    "    disabled=False\n",
    ")\n",
    "\n",
    "# Step 3: Dropdown for Product Selection\n",
    "product_dropdown = widgets.Dropdown(\n",
    "    options=df['Product_Name'].unique(),\n",
    "    description=\"Product:\",\n",
    "    disabled=False\n",
    ")\n",
    "\n",
    "# Step 4: Button to Trigger Recommendations\n",
    "recommend_button = widgets.Button(\n",
    "    description=\"Get Recommendations\",\n",
    "    button_style=\"primary\"\n",
    ")\n",
    "\n",
    "# Output widget to display results\n",
    "output = widgets.Output()\n",
    "\n",
    "# Function to Calculate Jaccard Similarity for Collaborative Filtering\n",
    "def calculate_jaccard_similarity(df):\n",
    "    features = df[['Price', 'Ratings']].values\n",
    "    binary_features = np.where(features > np.median(features, axis=0), 1, 0)\n",
    "    sim_matrix = np.zeros((len(df), len(df)))\n",
    "\n",
    "    for i in range(len(df)):\n",
    "        for j in range(len(df)):\n",
    "            sim_matrix[i][j] = 1 - jaccard(binary_features[i], binary_features[j])\n",
    "    \n",
    "    return sim_matrix\n",
    "\n",
    "# Function to Calculate TF-IDF Similarity for Content-Based Filtering\n",
    "def calculate_tfidf_similarity(df):\n",
    "    df['combined_features'] = df['Category'] + \" \" + df['Material'] + \" \" + df['Description']\n",
    "    tfidf = TfidfVectorizer(stop_words='english')\n",
    "    tfidf_matrix = tfidf.fit_transform(df['combined_features'])\n",
    "    return cosine_similarity(tfidf_matrix, tfidf_matrix)\n",
    "\n",
    "# Function to Get Hybrid Recommendations\n",
    "def recommend_products(user_id, product_name, category_filter, num_recommendations=5):\n",
    "    with output:\n",
    "        clear_output()\n",
    "\n",
    "    # Ensure product exists\n",
    "    if product_name not in df['Product_Name'].values:\n",
    "        with output:\n",
    "            print(\"\\n⚠️ Product not found in dataset.\")\n",
    "        return None\n",
    "\n",
    "    # Compute similarity matrices\n",
    "    jaccard_sim = calculate_jaccard_similarity(df)\n",
    "    tfidf_sim = calculate_tfidf_similarity(df)\n",
    "\n",
    "    # Get index of selected product\n",
    "    product_idx = df[df['Product_Name'] == product_name].index[0]\n",
    "\n",
    "    # Get collaborative and content-based scores\n",
    "    jaccard_scores = list(enumerate(jaccard_sim[product_idx]))\n",
    "    tfidf_scores = list(enumerate(tfidf_sim[product_idx]))\n",
    "\n",
    "    # Normalize and blend scores (Weighted 50-50)\n",
    "    blended_scores = {\n",
    "        i: (jaccard_scores[i][1] * 0.5) + (tfidf_scores[i][1] * 0.5) for i in range(len(df))\n",
    "    }\n",
    "\n",
    "    # Sort by blended score\n",
    "    sorted_scores = sorted(blended_scores.items(), key=lambda x: x[1], reverse=True)\n",
    "    sorted_scores = sorted_scores[1:]  # Exclude the selected product\n",
    "\n",
    "    # Get recommended product indices\n",
    "    product_indices = [i[0] for i in sorted_scores]\n",
    "\n",
    "    # **NEW FIX**: Prioritize Cross-Category Recommendations\n",
    "    category_filtered_indices = [idx for idx in product_indices if df.iloc[idx]['Category'] == category_filter]\n",
    "    cross_category_indices = [idx for idx in product_indices if df.iloc[idx]['Category'] != category_filter]\n",
    "\n",
    "    # If too many category-matching products, mix with cross-category\n",
    "    final_indices = category_filtered_indices[:int(num_recommendations * 0.6)] + cross_category_indices[:int(num_recommendations * 0.4)]\n",
    "\n",
    "    # Ensure at least 5 recommendations\n",
    "    while len(final_indices) < num_recommendations:\n",
    "        final_indices.append(cross_category_indices.pop(0))\n",
    "\n",
    "    # Display recommendations\n",
    "    with output:\n",
    "        print(\"\\n🔹 Hybrid Recommendations for Category:\", category_filter)\n",
    "        display(df.iloc[final_indices][['Product_ID', 'Product_Name', 'Category', 'Material', 'Price',\n",
    "                                          'Description', 'Brand', 'Availability', 'User_ID', 'Ratings']])\n",
    "\n",
    "# Function to Handle Button Click\n",
    "def on_button_click(b):\n",
    "    selected_product = product_dropdown.value\n",
    "    selected_category = category_dropdown.value\n",
    "    if selected_product:\n",
    "        recommend_products(user_id, selected_product, selected_category, 5)\n",
    "\n",
    "# Link button to function\n",
    "recommend_button.on_click(on_button_click)\n",
    "\n",
    "# Display widgets\n",
    "display(category_dropdown, product_dropdown, recommend_button, output)\n"
   ]
  },
  {
   "cell_type": "code",
   "execution_count": 11,
   "id": "77c0b44e-600e-4755-a519-c99d173f44f1",
   "metadata": {},
   "outputs": [
    {
     "data": {
      "application/vnd.jupyter.widget-view+json": {
       "model_id": "5d7b9fab63ca4dd590e9be2d1bf9a392",
       "version_major": 2,
       "version_minor": 0
      },
      "text/plain": [
       "IntText(value=1, description='User_ID:')"
      ]
     },
     "metadata": {},
     "output_type": "display_data"
    },
    {
     "data": {
      "application/vnd.jupyter.widget-view+json": {
       "model_id": "bb04e8ddd51b4c289bffac906b5ec443",
       "version_major": 2,
       "version_minor": 0
      },
      "text/plain": [
       "Dropdown(description='Select Product:', options=('Bamboo Toothbrush', 'Recycled Plastic Toothbrush', 'Cornstar…"
      ]
     },
     "metadata": {},
     "output_type": "display_data"
    },
    {
     "data": {
      "application/vnd.jupyter.widget-view+json": {
       "model_id": "51320cc5bbe24ab893428343a259e2f4",
       "version_major": 2,
       "version_minor": 0
      },
      "text/plain": [
       "Button(button_style='primary', description='Get Recommendations', style=ButtonStyle())"
      ]
     },
     "metadata": {},
     "output_type": "display_data"
    },
    {
     "data": {
      "application/vnd.jupyter.widget-view+json": {
       "model_id": "89c2ab1335e448648362e01cccba9631",
       "version_major": 2,
       "version_minor": 0
      },
      "text/plain": [
       "Output()"
      ]
     },
     "metadata": {},
     "output_type": "display_data"
    }
   ],
   "source": [
    "import pandas as pd\n",
    "import numpy as np\n",
    "from scipy.spatial.distance import jaccard\n",
    "from sklearn.feature_extraction.text import TfidfVectorizer\n",
    "from sklearn.metrics.pairwise import cosine_similarity\n",
    "import ipywidgets as widgets\n",
    "from IPython.display import display, clear_output\n",
    "# User Input Widgets\n",
    "user_id_dropdown = widgets.IntText(value=1, description=\"User_ID:\", disabled=False)\n",
    "product_dropdown = widgets.Dropdown(options=df['Product_Name'].unique(), description=\"Select Product:\", disabled=False)\n",
    "recommend_button = widgets.Button(description=\"Get Recommendations\", button_style=\"primary\")\n",
    "output = widgets.Output()\n",
    "# Function to Compute Jaccard Similarity\n",
    "def calculate_jaccard_similarity(df):\n",
    "    df[['Price', 'Ratings']] = df[['Price', 'Ratings']].apply(pd.to_numeric, errors='coerce')\n",
    "    binary_features = np.where(df[['Price', 'Ratings']] > df[['Price', 'Ratings']].median(), 1, 0)\n",
    "    num_products = len(df)\n",
    "    sim_matrix = np.zeros((num_products, num_products))\n",
    "    for i in range(num_products):\n",
    "        for j in range(num_products):\n",
    "            if i != j:\n",
    "                sim_matrix[i][j] = 1 - jaccard(binary_features[i], binary_features[j])\n",
    "    return sim_matrix\n",
    "# Function to Compute Content Similarity\n",
    "def calculate_content_similarity(df):\n",
    "    df['combined_features'] = df['Category'] + \" \" + df['Material'] + \" \" + df['Description']\n",
    "    tfidf = TfidfVectorizer(stop_words='english')\n",
    "    tfidf_matrix = tfidf.fit_transform(df['combined_features'])\n",
    "    return cosine_similarity(tfidf_matrix, tfidf_matrix)\n",
    "# Hybrid Recommendation Function\n",
    "def recommend_products(user_id, product_name, num_recommendations=5):\n",
    "    with output:\n",
    "        clear_output()\n",
    "        if product_name not in df['Product_Name'].values:\n",
    "            print(\":warning: Product not found in dataset.\")\n",
    "            return\n",
    "        jaccard_matrix = calculate_jaccard_similarity(df)\n",
    "        content_matrix = calculate_content_similarity(df)\n",
    "        product_idx = df[df['Product_Name'] == product_name].index[0]\n",
    "        hybrid_scores = (jaccard_matrix[product_idx] + content_matrix[product_idx]) / 2\n",
    "        sim_scores = list(enumerate(hybrid_scores))\n",
    "        sim_scores = sorted(sim_scores, key=lambda x: x[1], reverse=True)\n",
    "        sim_scores = sim_scores[1:num_recommendations + 1]\n",
    "        product_indices = [i[0] for i in sim_scores]\n",
    "        print(\":small_blue_diamond: Recommended Products Based on:\", product_name)\n",
    "        display(df.iloc[product_indices])\n",
    "# Button Click Function\n",
    "def on_button_click(b):\n",
    "    selected_product = product_dropdown.value\n",
    "    user_id = user_id_dropdown.value\n",
    "    if selected_product:\n",
    "        recommend_products(user_id, selected_product, 5)\n",
    "recommend_button.on_click(on_button_click)\n",
    "# Display Widgets\n",
    "display(user_id_dropdown, product_dropdown, recommend_button, output)\n"
   ]
  },
  {
   "cell_type": "code",
   "execution_count": null,
   "id": "0037a4a7-c442-4af5-a430-6ad2ccf673e3",
   "metadata": {},
   "outputs": [],
   "source": []
  }
 ],
 "metadata": {
  "kernelspec": {
   "display_name": "Python 3 (ipykernel)",
   "language": "python",
   "name": "python3"
  },
  "language_info": {
   "codemirror_mode": {
    "name": "ipython",
    "version": 3
   },
   "file_extension": ".py",
   "mimetype": "text/x-python",
   "name": "python",
   "nbconvert_exporter": "python",
   "pygments_lexer": "ipython3",
   "version": "3.9.18"
  }
 },
 "nbformat": 4,
 "nbformat_minor": 5
}
