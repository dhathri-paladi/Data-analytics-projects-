{
 "cells": [
  {
   "cell_type": "markdown",
   "id": "05de5317-ffcb-43df-a9eb-b68d75155f6f",
   "metadata": {},
   "source": [
    "### INSERTING THE DATA INTO DATABASE"
   ]
  },
  {
   "cell_type": "code",
   "execution_count": 2,
   "id": "a41c15f9-1447-4364-8cc8-13cfd3b1ad9a",
   "metadata": {},
   "outputs": [
    {
     "name": "stdout",
     "output_type": "stream",
     "text": [
      "✅ Connected to MySQL Database\n",
      "✅ Data successfully inserted into the 'Products' table\n",
      "✅ MySQL connection is closed\n"
     ]
    }
   ],
   "source": [
    "import mysql.connector\n",
    "import pandas as pd\n",
    "from mysql.connector import Error\n",
    "\n",
    "# Database connection details\n",
    "HOST = \"localhost\"\n",
    "USER = \"root\"\n",
    "PASSWORD = \"root\"\n",
    "DATABASE = \"eco_friendly\"\n",
    "\n",
    "# Load data from Excel\n",
    "file_path = \"EcoFriendly_Products .xlsx\"  # Update path if needed\n",
    "df = pd.read_excel(file_path)\n",
    "\n",
    "try:\n",
    "    # Connect to MySQL server and select database\n",
    "    connection = mysql.connector.connect(\n",
    "        host=HOST,\n",
    "        user=USER,\n",
    "        password=PASSWORD,\n",
    "        database=DATABASE\n",
    "    )\n",
    "    \n",
    "    if connection.is_connected():\n",
    "        print(\"✅ Connected to MySQL Database\")\n",
    "\n",
    "        # Create a cursor object\n",
    "        cursor = connection.cursor()\n",
    "\n",
    "        # Define the SQL INSERT query\n",
    "        insert_query = \"\"\"\n",
    "        INSERT INTO Products (Product_Name, Category, Material, Price, Description, Brand, Availability, User_ID, Ratings)\n",
    "        VALUES (%s, %s, %s, %s, %s, %s, %s, %s, %s)\n",
    "        \"\"\"\n",
    "\n",
    "        # Loop through the DataFrame and insert each row\n",
    "        for _, row in df.iterrows():\n",
    "            cursor.execute(insert_query, (\n",
    "                row['Product Name'],\n",
    "                row['Category'],\n",
    "                row['Material'],\n",
    "                row['Price'],\n",
    "                row['Description'],\n",
    "                row['Brand'],\n",
    "                row['Availability'],\n",
    "                row['User-ID'],\n",
    "                row['Ratings']\n",
    "            ))\n",
    "\n",
    "        # Commit the transaction\n",
    "        connection.commit()\n",
    "        print(\"✅ Data successfully inserted into the 'Products' table\")\n",
    "\n",
    "except Error as e:\n",
    "    print(f\"❌ Error: {e}\")\n",
    "\n",
    "finally:\n",
    "    # Close the connection\n",
    "    if connection.is_connected():\n",
    "        cursor.close()\n",
    "        connection.close()\n",
    "        print(\"✅ MySQL connection is closed\")\n"
   ]
  },
  {
   "cell_type": "code",
   "execution_count": null,
   "id": "8816ac8e-b67e-4f1a-ba6a-a186ed6dc882",
   "metadata": {},
   "outputs": [],
   "source": []
  }
 ],
 "metadata": {
  "kernelspec": {
   "display_name": "Python 3 (ipykernel)",
   "language": "python",
   "name": "python3"
  },
  "language_info": {
   "codemirror_mode": {
    "name": "ipython",
    "version": 3
   },
   "file_extension": ".py",
   "mimetype": "text/x-python",
   "name": "python",
   "nbconvert_exporter": "python",
   "pygments_lexer": "ipython3",
   "version": "3.9.18"
  }
 },
 "nbformat": 4,
 "nbformat_minor": 5
}
